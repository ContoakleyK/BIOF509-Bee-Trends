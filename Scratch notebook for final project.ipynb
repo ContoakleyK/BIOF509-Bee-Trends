{
 "cells": [
  {
   "cell_type": "markdown",
   "metadata": {},
   "source": [
    "# Kevin Oakley's       BIOF509       Spring 2019      Final Project"
   ]
  },
  {
   "cell_type": "markdown",
   "metadata": {},
   "source": [
    "### Predicting Bee trends from USDA census data "
   ]
  },
  {
   "cell_type": "markdown",
   "metadata": {},
   "source": []
  },
  {
   "cell_type": "code",
   "execution_count": null,
   "metadata": {},
   "outputs": [],
   "source": [
    "## Store USDA csv files in GitHub repo in the next cell"
   ]
  },
  {
   "cell_type": "markdown",
   "metadata": {},
   "source": [
    "https://github.com/ContoakleyK/BIOF509-Bee-Trends.git"
   ]
  },
  {
   "cell_type": "code",
   "execution_count": 1,
   "metadata": {},
   "outputs": [],
   "source": [
    "### Import packages to pull csv file from repo for analysis\n",
    "\n",
    "import pandas as pd\n",
    "import numpy as np\n",
    "from sqlalchemy import create_engine\n",
    "import matplotlib.pyplot as plt\n",
    "%matplotlib inline\n",
    "import sklearn\n",
    "import requests\n",
    "from urllib.request import urlretrieve"
   ]
  },
  {
   "cell_type": "code",
   "execution_count": 4,
   "metadata": {},
   "outputs": [],
   "source": [
    "### Assign URL to variable: url\n",
    "url = 'https://raw.githubusercontent.com/ContoakleyK/BIOF509-Bee-Trends/master/USDA%20Honey%20Bee%20Colony%20Data.csv'"
   ]
  },
  {
   "cell_type": "code",
   "execution_count": 5,
   "metadata": {
    "scrolled": true
   },
   "outputs": [],
   "source": [
    "### Apply pandas package to read the .csv file: url\n",
    "df = pd.read_csv(url)"
   ]
  },
  {
   "cell_type": "code",
   "execution_count": 7,
   "metadata": {
    "scrolled": true
   },
   "outputs": [
    {
     "name": "stdout",
     "output_type": "stream",
     "text": [
      "(28463, 1)\n"
     ]
    }
   ],
   "source": [
    "print(df.shape)"
   ]
  },
  {
   "cell_type": "code",
   "execution_count": 16,
   "metadata": {
    "scrolled": true
   },
   "outputs": [
    {
     "name": "stdout",
     "output_type": "stream",
     "text": [
      "(28463, 1)\n",
      "                                                                                                                                                                                                                                                     71AA6DED-1C0F-3FBB-AC96-0C7D1414549D\n",
      "Program Year Period     Week Ending Geo Level State   State ANSI Ag District Ag District Code County  County ANSI Zip Code Region watershed_code Watershed Commodity Data Item                                          Domain Domain Category Value                               CV (%)\n",
      "CENSUS  2012 END OF DEC NaN         COUNTY    ALABAMA 1          BLACK BELT  40               AUTAUGA 1           NaN      NaN    0              NaN       HONEY     HONEY, BEE COLONIES - INVENTORY, MEASURED IN CO... TOTAL  NOT SPECIFIED   119                                   27.7\n",
      "                                                                                                                                                                     HONEY, BEE COLONIES - OPERATIONS WITH INVENTORY    TOTAL  NOT SPECIFIED   7                                     27.2\n",
      "                                                                                              DALLAS  47          NaN      NaN    0              NaN       HONEY     HONEY, BEE COLONIES - INVENTORY, MEASURED IN CO... TOTAL  NOT SPECIFIED   65                                    27.7\n",
      "                                                                                                                                                                     HONEY, BEE COLONIES - OPERATIONS WITH INVENTORY    TOTAL  NOT SPECIFIED   13                                    27.2\n",
      "<class 'pandas.core.frame.DataFrame'>\n",
      "MultiIndex: 28463 entries, (Program, Year, Period, Week Ending, Geo Level, State, State ANSI, Ag District, Ag District Code, County, County ANSI, Zip Code, Region, watershed_code, Watershed, Commodity, Data Item, Domain, Domain Category, Value) to (SURVEY, 1987, MARKETING YEAR, nan, STATE, WYOMING, 56, nan, nan, nan, nan, nan, nan, 0, nan, HONEY, HONEY, BEE COLONIES - INVENTORY, MEASURED IN COLONIES, TOTAL, NOT SPECIFIED, 39,000)\n",
      "Data columns (total 1 columns):\n",
      "71AA6DED-1C0F-3FBB-AC96-0C7D1414549D    5625 non-null object\n",
      "dtypes: object(1)\n",
      "memory usage: 900.2+ KB\n"
     ]
    }
   ],
   "source": [
    "print(df.shape)\n",
    "print(df.head(5))\n",
    "df.info()"
   ]
  },
  {
   "cell_type": "code",
   "execution_count": null,
   "metadata": {},
   "outputs": [],
   "source": []
  },
  {
   "cell_type": "code",
   "execution_count": null,
   "metadata": {},
   "outputs": [],
   "source": []
  },
  {
   "cell_type": "code",
   "execution_count": 15,
   "metadata": {},
   "outputs": [
    {
     "name": "stdout",
     "output_type": "stream",
     "text": [
      "(45703, 21)\n",
      "  Program  Year Period  Week Ending Geo Level    State  State ANSI  \\\n",
      "0  CENSUS  2012   YEAR          NaN    COUNTY  ALABAMA         1.0   \n",
      "1  CENSUS  2012   YEAR          NaN    COUNTY  ALABAMA         1.0   \n",
      "2  CENSUS  2012   YEAR          NaN    COUNTY  ALABAMA         1.0   \n",
      "3  CENSUS  2012   YEAR          NaN    COUNTY  ALABAMA         1.0   \n",
      "4  CENSUS  2012   YEAR          NaN    COUNTY  ALABAMA         1.0   \n",
      "\n",
      "  Ag District  Ag District Code   County  ...    Zip Code  Region  \\\n",
      "0  BLACK BELT              40.0  AUTAUGA  ...         NaN     NaN   \n",
      "1  BLACK BELT              40.0  AUTAUGA  ...         NaN     NaN   \n",
      "2  BLACK BELT              40.0  AUTAUGA  ...         NaN     NaN   \n",
      "3  BLACK BELT              40.0   ELMORE  ...         NaN     NaN   \n",
      "4  BLACK BELT              40.0   ELMORE  ...         NaN     NaN   \n",
      "\n",
      "   watershed_code  Watershed  Commodity                           Data Item  \\\n",
      "0               0        NaN      HONEY  HONEY - OPERATIONS WITH PRODUCTION   \n",
      "1               0        NaN      HONEY       HONEY - OPERATIONS WITH SALES   \n",
      "2               0        NaN      HONEY        HONEY - SALES, MEASURED IN $   \n",
      "3               0        NaN      HONEY  HONEY - OPERATIONS WITH PRODUCTION   \n",
      "4               0        NaN      HONEY       HONEY - OPERATIONS WITH SALES   \n",
      "\n",
      "  Domain Domain Category   Value CV (%)  \n",
      "0  TOTAL   NOT SPECIFIED       6   33.8  \n",
      "1  TOTAL   NOT SPECIFIED       5   32.9  \n",
      "2  TOTAL   NOT SPECIFIED  15,000   13.6  \n",
      "3  TOTAL   NOT SPECIFIED      15   33.8  \n",
      "4  TOTAL   NOT SPECIFIED      13   32.9  \n",
      "\n",
      "[5 rows x 21 columns]\n",
      "<class 'pandas.core.frame.DataFrame'>\n",
      "RangeIndex: 45703 entries, 0 to 45702\n",
      "Data columns (total 21 columns):\n",
      "Program             45703 non-null object\n",
      "Year                45703 non-null int64\n",
      "Period              45703 non-null object\n",
      "Week Ending         0 non-null float64\n",
      "Geo Level           45703 non-null object\n",
      "State               45703 non-null object\n",
      "State ANSI          44952 non-null float64\n",
      "Ag District         30394 non-null object\n",
      "Ag District Code    30394 non-null float64\n",
      "County              30394 non-null object\n",
      "County ANSI         30359 non-null float64\n",
      "Zip Code            0 non-null float64\n",
      "Region              0 non-null float64\n",
      "watershed_code      45703 non-null int64\n",
      "Watershed           0 non-null float64\n",
      "Commodity           45703 non-null object\n",
      "Data Item           45703 non-null object\n",
      "Domain              45703 non-null object\n",
      "Domain Category     45703 non-null object\n",
      "Value               45703 non-null object\n",
      "CV (%)              14001 non-null object\n",
      "dtypes: float64(7), int64(2), object(12)\n",
      "memory usage: 7.3+ MB\n"
     ]
    }
   ],
   "source": [
    "### read in the smaller dataset of only Honey information\n",
    "Honey_url = 'https://raw.githubusercontent.com/ContoakleyK/BIOF509-Bee-Trends/master/USDA%20Honey%20Data.csv'\n",
    "honey_df = pd.read_csv(Honey_url)\n",
    "print(honey_df.shape)\n",
    "print(honey_df.head(5))\n",
    "honey_df.info()"
   ]
  },
  {
   "cell_type": "code",
   "execution_count": null,
   "metadata": {},
   "outputs": [],
   "source": []
  }
 ],
 "metadata": {
  "kernelspec": {
   "display_name": "Python 3",
   "language": "python",
   "name": "python3"
  },
  "language_info": {
   "codemirror_mode": {
    "name": "ipython",
    "version": 3
   },
   "file_extension": ".py",
   "mimetype": "text/x-python",
   "name": "python",
   "nbconvert_exporter": "python",
   "pygments_lexer": "ipython3",
   "version": "3.7.1"
  }
 },
 "nbformat": 4,
 "nbformat_minor": 2
}
