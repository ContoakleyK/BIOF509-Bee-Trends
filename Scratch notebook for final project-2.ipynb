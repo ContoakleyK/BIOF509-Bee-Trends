{
 "cells": [
  {
   "cell_type": "markdown",
   "metadata": {},
   "source": [
    "# Kevin Oakley's       BIOF509       Spring 2019      Final Project"
   ]
  },
  {
   "cell_type": "markdown",
   "metadata": {},
   "source": [
    "### Predicting Bee trends from USDA census data "
   ]
  },
  {
   "cell_type": "markdown",
   "metadata": {},
   "source": []
  },
  {
   "cell_type": "code",
   "execution_count": null,
   "metadata": {},
   "outputs": [],
   "source": [
    "## Store USDA csv files in GitHub repo in the next cell"
   ]
  },
  {
   "cell_type": "markdown",
   "metadata": {},
   "source": [
    "https://github.com/ContoakleyK/BIOF509-Bee-Trends.git"
   ]
  },
  {
   "cell_type": "code",
   "execution_count": 1,
   "metadata": {},
   "outputs": [],
   "source": [
    "### Import packages to pull csv file from repo for analysis\n",
    "\n",
    "import pandas as pd\n",
    "import numpy as np\n",
    "from sqlalchemy import create_engine\n",
    "import matplotlib.pyplot as plt\n",
    "%matplotlib inline\n",
    "import sklearn\n",
    "import requests\n",
    "from urllib.request import urlretrieve"
   ]
  },
  {
   "cell_type": "code",
   "execution_count": 2,
   "metadata": {},
   "outputs": [],
   "source": [
    "### Assign URL to variable: url\n",
    "url = 'https://raw.githubusercontent.com/ContoakleyK/BIOF509-Bee-Trends/master/USDA%20Honey%20Bee%20Colony%20Data.csv'"
   ]
  },
  {
   "cell_type": "code",
   "execution_count": 3,
   "metadata": {
    "scrolled": true
   },
   "outputs": [],
   "source": [
    "### Apply pandas package to read the .csv file: url\n",
    "df = pd.read_csv(url)"
   ]
  },
  {
   "cell_type": "code",
   "execution_count": 4,
   "metadata": {
    "scrolled": true
   },
   "outputs": [
    {
     "name": "stdout",
     "output_type": "stream",
     "text": [
      "(28463, 1)\n"
     ]
    }
   ],
   "source": [
    "print(df.shape)"
   ]
  },
  {
   "cell_type": "code",
   "execution_count": 5,
   "metadata": {
    "scrolled": true
   },
   "outputs": [
    {
     "data": {
      "text/html": [
       "<div>\n",
       "<style scoped>\n",
       "    .dataframe tbody tr th:only-of-type {\n",
       "        vertical-align: middle;\n",
       "    }\n",
       "\n",
       "    .dataframe tbody tr th {\n",
       "        vertical-align: top;\n",
       "    }\n",
       "\n",
       "    .dataframe thead th {\n",
       "        text-align: right;\n",
       "    }\n",
       "</style>\n",
       "<table border=\"1\" class=\"dataframe\">\n",
       "  <thead>\n",
       "    <tr style=\"text-align: right;\">\n",
       "      <th></th>\n",
       "      <th></th>\n",
       "      <th></th>\n",
       "      <th></th>\n",
       "      <th></th>\n",
       "      <th></th>\n",
       "      <th></th>\n",
       "      <th></th>\n",
       "      <th></th>\n",
       "      <th></th>\n",
       "      <th></th>\n",
       "      <th></th>\n",
       "      <th></th>\n",
       "      <th></th>\n",
       "      <th></th>\n",
       "      <th></th>\n",
       "      <th></th>\n",
       "      <th></th>\n",
       "      <th></th>\n",
       "      <th></th>\n",
       "      <th>71AA6DED-1C0F-3FBB-AC96-0C7D1414549D</th>\n",
       "    </tr>\n",
       "  </thead>\n",
       "  <tbody>\n",
       "    <tr>\n",
       "      <th>Program</th>\n",
       "      <th>Year</th>\n",
       "      <th>Period</th>\n",
       "      <th>Week Ending</th>\n",
       "      <th>Geo Level</th>\n",
       "      <th>State</th>\n",
       "      <th>State ANSI</th>\n",
       "      <th>Ag District</th>\n",
       "      <th>Ag District Code</th>\n",
       "      <th>County</th>\n",
       "      <th>County ANSI</th>\n",
       "      <th>Zip Code</th>\n",
       "      <th>Region</th>\n",
       "      <th>watershed_code</th>\n",
       "      <th>Watershed</th>\n",
       "      <th>Commodity</th>\n",
       "      <th>Data Item</th>\n",
       "      <th>Domain</th>\n",
       "      <th>Domain Category</th>\n",
       "      <th>Value</th>\n",
       "      <td>CV (%)</td>\n",
       "    </tr>\n",
       "    <tr>\n",
       "      <th rowspan=\"4\" valign=\"top\">CENSUS</th>\n",
       "      <th rowspan=\"4\" valign=\"top\">2012</th>\n",
       "      <th rowspan=\"4\" valign=\"top\">END OF DEC</th>\n",
       "      <th rowspan=\"4\" valign=\"top\">NaN</th>\n",
       "      <th rowspan=\"4\" valign=\"top\">COUNTY</th>\n",
       "      <th rowspan=\"4\" valign=\"top\">ALABAMA</th>\n",
       "      <th rowspan=\"4\" valign=\"top\">1</th>\n",
       "      <th rowspan=\"4\" valign=\"top\">BLACK BELT</th>\n",
       "      <th rowspan=\"4\" valign=\"top\">40</th>\n",
       "      <th rowspan=\"2\" valign=\"top\">AUTAUGA</th>\n",
       "      <th rowspan=\"2\" valign=\"top\">1</th>\n",
       "      <th rowspan=\"2\" valign=\"top\">NaN</th>\n",
       "      <th rowspan=\"2\" valign=\"top\">NaN</th>\n",
       "      <th rowspan=\"2\" valign=\"top\">0</th>\n",
       "      <th rowspan=\"2\" valign=\"top\">NaN</th>\n",
       "      <th rowspan=\"2\" valign=\"top\">HONEY</th>\n",
       "      <th>HONEY, BEE COLONIES - INVENTORY, MEASURED IN COLONIES</th>\n",
       "      <th>TOTAL</th>\n",
       "      <th>NOT SPECIFIED</th>\n",
       "      <th>119</th>\n",
       "      <td>27.7</td>\n",
       "    </tr>\n",
       "    <tr>\n",
       "      <th>HONEY, BEE COLONIES - OPERATIONS WITH INVENTORY</th>\n",
       "      <th>TOTAL</th>\n",
       "      <th>NOT SPECIFIED</th>\n",
       "      <th>7</th>\n",
       "      <td>27.2</td>\n",
       "    </tr>\n",
       "    <tr>\n",
       "      <th rowspan=\"2\" valign=\"top\">DALLAS</th>\n",
       "      <th rowspan=\"2\" valign=\"top\">47</th>\n",
       "      <th rowspan=\"2\" valign=\"top\">NaN</th>\n",
       "      <th rowspan=\"2\" valign=\"top\">NaN</th>\n",
       "      <th rowspan=\"2\" valign=\"top\">0</th>\n",
       "      <th rowspan=\"2\" valign=\"top\">NaN</th>\n",
       "      <th rowspan=\"2\" valign=\"top\">HONEY</th>\n",
       "      <th>HONEY, BEE COLONIES - INVENTORY, MEASURED IN COLONIES</th>\n",
       "      <th>TOTAL</th>\n",
       "      <th>NOT SPECIFIED</th>\n",
       "      <th>65</th>\n",
       "      <td>27.7</td>\n",
       "    </tr>\n",
       "    <tr>\n",
       "      <th>HONEY, BEE COLONIES - OPERATIONS WITH INVENTORY</th>\n",
       "      <th>TOTAL</th>\n",
       "      <th>NOT SPECIFIED</th>\n",
       "      <th>13</th>\n",
       "      <td>27.2</td>\n",
       "    </tr>\n",
       "  </tbody>\n",
       "</table>\n",
       "</div>"
      ],
      "text/plain": [
       "                                                                                                                                                                                                                                                     71AA6DED-1C0F-3FBB-AC96-0C7D1414549D\n",
       "Program Year Period     Week Ending Geo Level State   State ANSI Ag District Ag District Code County  County ANSI Zip Code Region watershed_code Watershed Commodity Data Item                                          Domain Domain Category Value                               CV (%)\n",
       "CENSUS  2012 END OF DEC NaN         COUNTY    ALABAMA 1          BLACK BELT  40               AUTAUGA 1           NaN      NaN    0              NaN       HONEY     HONEY, BEE COLONIES - INVENTORY, MEASURED IN CO... TOTAL  NOT SPECIFIED   119                                   27.7\n",
       "                                                                                                                                                                     HONEY, BEE COLONIES - OPERATIONS WITH INVENTORY    TOTAL  NOT SPECIFIED   7                                     27.2\n",
       "                                                                                              DALLAS  47          NaN      NaN    0              NaN       HONEY     HONEY, BEE COLONIES - INVENTORY, MEASURED IN CO... TOTAL  NOT SPECIFIED   65                                    27.7\n",
       "                                                                                                                                                                     HONEY, BEE COLONIES - OPERATIONS WITH INVENTORY    TOTAL  NOT SPECIFIED   13                                    27.2"
      ]
     },
     "execution_count": 5,
     "metadata": {},
     "output_type": "execute_result"
    }
   ],
   "source": [
    "df.head()\n"
   ]
  },
  {
   "cell_type": "code",
   "execution_count": 6,
   "metadata": {},
   "outputs": [
    {
     "name": "stdout",
     "output_type": "stream",
     "text": [
      "       71AA6DED-1C0F-3FBB-AC96-0C7D1414549D\n",
      "count                                  5625\n",
      "unique                                  159\n",
      "top                                     (D)\n",
      "freq                                    665\n"
     ]
    }
   ],
   "source": [
    "print(df.describe())"
   ]
  },
  {
   "cell_type": "code",
   "execution_count": 7,
   "metadata": {},
   "outputs": [
    {
     "name": "stdout",
     "output_type": "stream",
     "text": [
      "<class 'pandas.core.frame.DataFrame'>\n",
      "MultiIndex: 28463 entries, (Program, Year, Period, Week Ending, Geo Level, State, State ANSI, Ag District, Ag District Code, County, County ANSI, Zip Code, Region, watershed_code, Watershed, Commodity, Data Item, Domain, Domain Category, Value) to (SURVEY, 1987, MARKETING YEAR, nan, STATE, WYOMING, 56, nan, nan, nan, nan, nan, nan, 0, nan, HONEY, HONEY, BEE COLONIES - INVENTORY, MEASURED IN COLONIES, TOTAL, NOT SPECIFIED, 39,000)\n",
      "Data columns (total 1 columns):\n",
      "71AA6DED-1C0F-3FBB-AC96-0C7D1414549D    5625 non-null object\n",
      "dtypes: object(1)\n",
      "memory usage: 900.2+ KB\n",
      "None\n"
     ]
    }
   ],
   "source": [
    "print(df.info())"
   ]
  },
  {
   "cell_type": "code",
   "execution_count": null,
   "metadata": {},
   "outputs": [],
   "source": []
  },
  {
   "cell_type": "code",
   "execution_count": 8,
   "metadata": {
    "scrolled": false
   },
   "outputs": [
    {
     "name": "stdout",
     "output_type": "stream",
     "text": [
      "(45703, 21)\n",
      "<class 'pandas.core.frame.DataFrame'>\n",
      "RangeIndex: 45703 entries, 0 to 45702\n",
      "Data columns (total 21 columns):\n",
      "Program             45703 non-null object\n",
      "Year                45703 non-null int64\n",
      "Period              45703 non-null object\n",
      "Week Ending         0 non-null float64\n",
      "Geo Level           45703 non-null object\n",
      "State               45703 non-null object\n",
      "State ANSI          44952 non-null float64\n",
      "Ag District         30394 non-null object\n",
      "Ag District Code    30394 non-null float64\n",
      "County              30394 non-null object\n",
      "County ANSI         30359 non-null float64\n",
      "Zip Code            0 non-null float64\n",
      "Region              0 non-null float64\n",
      "watershed_code      45703 non-null int64\n",
      "Watershed           0 non-null float64\n",
      "Commodity           45703 non-null object\n",
      "Data Item           45703 non-null object\n",
      "Domain              45703 non-null object\n",
      "Domain Category     45703 non-null object\n",
      "Value               45703 non-null object\n",
      "CV (%)              14001 non-null object\n",
      "dtypes: float64(7), int64(2), object(12)\n",
      "memory usage: 7.3+ MB\n"
     ]
    },
    {
     "name": "stderr",
     "output_type": "stream",
     "text": [
      "/anaconda3/lib/python3.7/site-packages/IPython/core/interactiveshell.py:3020: DtypeWarning: Columns (7,9,20) have mixed types. Specify dtype option on import or set low_memory=False.\n",
      "  interactivity=interactivity, compiler=compiler, result=result)\n"
     ]
    }
   ],
   "source": [
    "### read in the smaller dataset of only Commodity = 'Honey' query\n",
    "Honey_url = 'https://raw.githubusercontent.com/ContoakleyK/BIOF509-Bee-Trends/master/USDA%20Honey%20Data.csv'\n",
    "honey_df = pd.read_csv(Honey_url)\n",
    "print(honey_df.shape)\n",
    "\n",
    "honey_df.info()"
   ]
  },
  {
   "cell_type": "code",
   "execution_count": 9,
   "metadata": {
    "scrolled": false
   },
   "outputs": [
    {
     "data": {
      "text/html": [
       "<div>\n",
       "<style scoped>\n",
       "    .dataframe tbody tr th:only-of-type {\n",
       "        vertical-align: middle;\n",
       "    }\n",
       "\n",
       "    .dataframe tbody tr th {\n",
       "        vertical-align: top;\n",
       "    }\n",
       "\n",
       "    .dataframe thead th {\n",
       "        text-align: right;\n",
       "    }\n",
       "</style>\n",
       "<table border=\"1\" class=\"dataframe\">\n",
       "  <thead>\n",
       "    <tr style=\"text-align: right;\">\n",
       "      <th></th>\n",
       "      <th>Program</th>\n",
       "      <th>Year</th>\n",
       "      <th>Period</th>\n",
       "      <th>Week Ending</th>\n",
       "      <th>Geo Level</th>\n",
       "      <th>State</th>\n",
       "      <th>State ANSI</th>\n",
       "      <th>Ag District</th>\n",
       "      <th>Ag District Code</th>\n",
       "      <th>County</th>\n",
       "      <th>...</th>\n",
       "      <th>Zip Code</th>\n",
       "      <th>Region</th>\n",
       "      <th>watershed_code</th>\n",
       "      <th>Watershed</th>\n",
       "      <th>Commodity</th>\n",
       "      <th>Data Item</th>\n",
       "      <th>Domain</th>\n",
       "      <th>Domain Category</th>\n",
       "      <th>Value</th>\n",
       "      <th>CV (%)</th>\n",
       "    </tr>\n",
       "  </thead>\n",
       "  <tbody>\n",
       "    <tr>\n",
       "      <th>0</th>\n",
       "      <td>CENSUS</td>\n",
       "      <td>2012</td>\n",
       "      <td>YEAR</td>\n",
       "      <td>NaN</td>\n",
       "      <td>COUNTY</td>\n",
       "      <td>ALABAMA</td>\n",
       "      <td>1.0</td>\n",
       "      <td>BLACK BELT</td>\n",
       "      <td>40.0</td>\n",
       "      <td>AUTAUGA</td>\n",
       "      <td>...</td>\n",
       "      <td>NaN</td>\n",
       "      <td>NaN</td>\n",
       "      <td>0</td>\n",
       "      <td>NaN</td>\n",
       "      <td>HONEY</td>\n",
       "      <td>HONEY - OPERATIONS WITH PRODUCTION</td>\n",
       "      <td>TOTAL</td>\n",
       "      <td>NOT SPECIFIED</td>\n",
       "      <td>6</td>\n",
       "      <td>33.8</td>\n",
       "    </tr>\n",
       "    <tr>\n",
       "      <th>1</th>\n",
       "      <td>CENSUS</td>\n",
       "      <td>2012</td>\n",
       "      <td>YEAR</td>\n",
       "      <td>NaN</td>\n",
       "      <td>COUNTY</td>\n",
       "      <td>ALABAMA</td>\n",
       "      <td>1.0</td>\n",
       "      <td>BLACK BELT</td>\n",
       "      <td>40.0</td>\n",
       "      <td>AUTAUGA</td>\n",
       "      <td>...</td>\n",
       "      <td>NaN</td>\n",
       "      <td>NaN</td>\n",
       "      <td>0</td>\n",
       "      <td>NaN</td>\n",
       "      <td>HONEY</td>\n",
       "      <td>HONEY - OPERATIONS WITH SALES</td>\n",
       "      <td>TOTAL</td>\n",
       "      <td>NOT SPECIFIED</td>\n",
       "      <td>5</td>\n",
       "      <td>32.9</td>\n",
       "    </tr>\n",
       "    <tr>\n",
       "      <th>2</th>\n",
       "      <td>CENSUS</td>\n",
       "      <td>2012</td>\n",
       "      <td>YEAR</td>\n",
       "      <td>NaN</td>\n",
       "      <td>COUNTY</td>\n",
       "      <td>ALABAMA</td>\n",
       "      <td>1.0</td>\n",
       "      <td>BLACK BELT</td>\n",
       "      <td>40.0</td>\n",
       "      <td>AUTAUGA</td>\n",
       "      <td>...</td>\n",
       "      <td>NaN</td>\n",
       "      <td>NaN</td>\n",
       "      <td>0</td>\n",
       "      <td>NaN</td>\n",
       "      <td>HONEY</td>\n",
       "      <td>HONEY - SALES, MEASURED IN $</td>\n",
       "      <td>TOTAL</td>\n",
       "      <td>NOT SPECIFIED</td>\n",
       "      <td>15,000</td>\n",
       "      <td>13.6</td>\n",
       "    </tr>\n",
       "    <tr>\n",
       "      <th>3</th>\n",
       "      <td>CENSUS</td>\n",
       "      <td>2012</td>\n",
       "      <td>YEAR</td>\n",
       "      <td>NaN</td>\n",
       "      <td>COUNTY</td>\n",
       "      <td>ALABAMA</td>\n",
       "      <td>1.0</td>\n",
       "      <td>BLACK BELT</td>\n",
       "      <td>40.0</td>\n",
       "      <td>ELMORE</td>\n",
       "      <td>...</td>\n",
       "      <td>NaN</td>\n",
       "      <td>NaN</td>\n",
       "      <td>0</td>\n",
       "      <td>NaN</td>\n",
       "      <td>HONEY</td>\n",
       "      <td>HONEY - OPERATIONS WITH PRODUCTION</td>\n",
       "      <td>TOTAL</td>\n",
       "      <td>NOT SPECIFIED</td>\n",
       "      <td>15</td>\n",
       "      <td>33.8</td>\n",
       "    </tr>\n",
       "    <tr>\n",
       "      <th>4</th>\n",
       "      <td>CENSUS</td>\n",
       "      <td>2012</td>\n",
       "      <td>YEAR</td>\n",
       "      <td>NaN</td>\n",
       "      <td>COUNTY</td>\n",
       "      <td>ALABAMA</td>\n",
       "      <td>1.0</td>\n",
       "      <td>BLACK BELT</td>\n",
       "      <td>40.0</td>\n",
       "      <td>ELMORE</td>\n",
       "      <td>...</td>\n",
       "      <td>NaN</td>\n",
       "      <td>NaN</td>\n",
       "      <td>0</td>\n",
       "      <td>NaN</td>\n",
       "      <td>HONEY</td>\n",
       "      <td>HONEY - OPERATIONS WITH SALES</td>\n",
       "      <td>TOTAL</td>\n",
       "      <td>NOT SPECIFIED</td>\n",
       "      <td>13</td>\n",
       "      <td>32.9</td>\n",
       "    </tr>\n",
       "  </tbody>\n",
       "</table>\n",
       "<p>5 rows × 21 columns</p>\n",
       "</div>"
      ],
      "text/plain": [
       "  Program  Year Period  Week Ending Geo Level    State  State ANSI  \\\n",
       "0  CENSUS  2012   YEAR          NaN    COUNTY  ALABAMA         1.0   \n",
       "1  CENSUS  2012   YEAR          NaN    COUNTY  ALABAMA         1.0   \n",
       "2  CENSUS  2012   YEAR          NaN    COUNTY  ALABAMA         1.0   \n",
       "3  CENSUS  2012   YEAR          NaN    COUNTY  ALABAMA         1.0   \n",
       "4  CENSUS  2012   YEAR          NaN    COUNTY  ALABAMA         1.0   \n",
       "\n",
       "  Ag District  Ag District Code   County  ...    Zip Code  Region  \\\n",
       "0  BLACK BELT              40.0  AUTAUGA  ...         NaN     NaN   \n",
       "1  BLACK BELT              40.0  AUTAUGA  ...         NaN     NaN   \n",
       "2  BLACK BELT              40.0  AUTAUGA  ...         NaN     NaN   \n",
       "3  BLACK BELT              40.0   ELMORE  ...         NaN     NaN   \n",
       "4  BLACK BELT              40.0   ELMORE  ...         NaN     NaN   \n",
       "\n",
       "   watershed_code  Watershed  Commodity                           Data Item  \\\n",
       "0               0        NaN      HONEY  HONEY - OPERATIONS WITH PRODUCTION   \n",
       "1               0        NaN      HONEY       HONEY - OPERATIONS WITH SALES   \n",
       "2               0        NaN      HONEY        HONEY - SALES, MEASURED IN $   \n",
       "3               0        NaN      HONEY  HONEY - OPERATIONS WITH PRODUCTION   \n",
       "4               0        NaN      HONEY       HONEY - OPERATIONS WITH SALES   \n",
       "\n",
       "  Domain Domain Category   Value CV (%)  \n",
       "0  TOTAL   NOT SPECIFIED       6   33.8  \n",
       "1  TOTAL   NOT SPECIFIED       5   32.9  \n",
       "2  TOTAL   NOT SPECIFIED  15,000   13.6  \n",
       "3  TOTAL   NOT SPECIFIED      15   33.8  \n",
       "4  TOTAL   NOT SPECIFIED      13   32.9  \n",
       "\n",
       "[5 rows x 21 columns]"
      ]
     },
     "execution_count": 9,
     "metadata": {},
     "output_type": "execute_result"
    }
   ],
   "source": [
    "honey_df.head(5)"
   ]
  },
  {
   "cell_type": "code",
   "execution_count": 21,
   "metadata": {},
   "outputs": [
    {
     "name": "stdout",
     "output_type": "stream",
     "text": [
      "['HONEY']\n",
      "(1,)\n"
     ]
    }
   ],
   "source": [
    "# hon is the list (np.ndarray) of column 'Commodity' to prove that the query returned only data with commodity \"Honey\"\n",
    "hon = honey_df['Commodity'].unique()\n",
    "print(hon)\n",
    "print(hon.shape)"
   ]
  },
  {
   "cell_type": "code",
   "execution_count": 10,
   "metadata": {},
   "outputs": [
    {
     "name": "stdout",
     "output_type": "stream",
     "text": [
      "['HONEY - OPERATIONS WITH PRODUCTION' 'HONEY - OPERATIONS WITH SALES'\n",
      " 'HONEY - SALES, MEASURED IN $'\n",
      " 'HONEY, BEE COLONIES - INVENTORY, MEASURED IN COLONIES'\n",
      " 'HONEY, BEE COLONIES - OPERATIONS WITH INVENTORY'\n",
      " 'HONEY, BEE COLONIES - OPERATIONS WITH SALES'\n",
      " 'HONEY, BEE COLONIES - SALES, MEASURED IN COLONIES'\n",
      " 'HONEY, BEE COLONIES - ADDED & REPLACED, MEASURED IN COLONIES'\n",
      " 'HONEY, BEE COLONIES - LOSS, COLONY COLLAPSE DISORDER, MEASURED IN COLONIES'\n",
      " 'HONEY, BEE COLONIES - LOSS, DEADOUT, MEASURED IN COLONIES'\n",
      " 'HONEY, BEE COLONIES - LOSS, DEADOUT, MEASURED IN PCT OF COLONIES'\n",
      " 'HONEY, BEE COLONIES, AFFECTED BY DISEASE - INVENTORY, MEASURED IN PCT OF COLONIES'\n",
      " 'HONEY, BEE COLONIES, AFFECTED BY OTHER CAUSES - INVENTORY, MEASURED IN PCT OF COLONIES'\n",
      " 'HONEY, BEE COLONIES, AFFECTED BY PESTICIDES - INVENTORY, MEASURED IN PCT OF COLONIES'\n",
      " 'HONEY, BEE COLONIES, AFFECTED BY PESTS ((EXCL VARROA MITES)) - INVENTORY, MEASURED IN PCT OF COLONIES'\n",
      " 'HONEY, BEE COLONIES, AFFECTED BY UNKNOWN CAUSES - INVENTORY, MEASURED IN PCT OF COLONIES'\n",
      " 'HONEY, BEE COLONIES, AFFECTED BY VARROA MITES - INVENTORY, MEASURED IN PCT OF COLONIES'\n",
      " 'HONEY, BEE COLONIES, RENOVATED - INVENTORY, MEASURED IN COLONIES'\n",
      " 'HONEY, BEE COLONIES, RENOVATED - INVENTORY, MEASURED IN PCT OF COLONIES'\n",
      " 'HONEY, BEE COLONIES - INVENTORY, MAX, MEASURED IN COLONIES'\n",
      " 'HONEY - INVENTORY, MEASURED IN COLONIES'\n",
      " 'HONEY - PRODUCTION, MEASURED IN $'\n",
      " 'HONEY - PRODUCTION, MEASURED IN LB / COLONY'\n",
      " 'HONEY, CONTRACTING HIVES FOR POLLINATION - GROSS INCOME, MEASURED IN $'\n",
      " 'HONEY, RETAIL - PRICE RECEIVED, MEASURED IN CENTS / LB'\n",
      " 'HONEY, WHOLESALE - PRICE RECEIVED, MEASURED IN CENTS / LB'\n",
      " 'HONEY, BEE COLONIES, AFFECTED BY PESTS (EXCL VARROA MITES) - INVENTORY, MEASURED IN PCT OF COLONIES'\n",
      " 'HONEY - STOCKS, MEASURED IN LB']\n",
      "(28,)\n"
     ]
    }
   ],
   "source": [
    "# lsdi is the list (np.ndarray) of column 'Data Item' to see the various sub-categories of the commodity \"Honey\" from my query search \n",
    "lsdi = honey_df['Data Item'].unique()\n",
    "print(lsdi)\n",
    "print(lsdi.shape)"
   ]
  },
  {
   "cell_type": "code",
   "execution_count": 11,
   "metadata": {
    "scrolled": true
   },
   "outputs": [
    {
     "name": "stdout",
     "output_type": "stream",
     "text": [
      "[2012 2007 2002 1997 2018 2017 2016 2015 2014 2013 2011 2010 2009 2008\n",
      " 2006 2005 2004 2003 2001 2000 1999 1998 1996 1995 1994 1993 1992 1991\n",
      " 1990 1989 1988 1987]\n",
      "(32,)\n"
     ]
    }
   ],
   "source": [
    "# years is the numpy.ndarray for the unique entries of year associated throughout the honey_df DataFrame\n",
    "years = honey_df['Year'].unique()\n",
    "print(years)\n",
    "print(years.shape)"
   ]
  },
  {
   "cell_type": "code",
   "execution_count": 12,
   "metadata": {},
   "outputs": [
    {
     "name": "stdout",
     "output_type": "stream",
     "text": [
      "['YEAR' 'END OF DEC' 'FIRST OF JAN' 'JAN THRU MAR' 'APR THRU JUN'\n",
      " 'FIRST OF APR' 'MARKETING YEAR' 'FIRST OF JUL' 'JUL THRU SEP'\n",
      " 'FIRST OF OCT' 'OCT THRU DEC' 'MID DEC']\n",
      "(12,)\n"
     ]
    }
   ],
   "source": [
    "# period is the np.ndarray of time designations for entries\n",
    "period = honey_df['Period'].unique()\n",
    "print(period)\n",
    "print(period.shape)"
   ]
  },
  {
   "cell_type": "code",
   "execution_count": 13,
   "metadata": {},
   "outputs": [
    {
     "name": "stdout",
     "output_type": "stream",
     "text": [
      "['CENSUS' 'SURVEY']\n",
      "(2,)\n"
     ]
    }
   ],
   "source": [
    "# census is the np.ndarray for the 'census' and 'survey' designations of the 'Program' column\n",
    "census = honey_df['Program'].unique()\n",
    "print(census)\n",
    "print(census.shape)"
   ]
  },
  {
   "cell_type": "code",
   "execution_count": 14,
   "metadata": {},
   "outputs": [
    {
     "name": "stdout",
     "output_type": "stream",
     "text": [
      "['ALABAMA' 'ALASKA' 'ARIZONA' 'ARKANSAS' 'CALIFORNIA' 'COLORADO'\n",
      " 'CONNECTICUT' 'DELAWARE' 'FLORIDA' 'GEORGIA' 'HAWAII' 'IDAHO' 'ILLINOIS'\n",
      " 'INDIANA' 'IOWA' 'KANSAS' 'KENTUCKY' 'LOUISIANA' 'MAINE' 'MARYLAND'\n",
      " 'MASSACHUSETTS' 'MICHIGAN' 'MINNESOTA' 'MISSISSIPPI' 'MISSOURI' 'MONTANA'\n",
      " 'NEBRASKA' 'NEVADA' 'NEW HAMPSHIRE' 'NEW JERSEY' 'NEW MEXICO' 'NEW YORK'\n",
      " 'NORTH CAROLINA' 'NORTH DAKOTA' 'OHIO' 'OKLAHOMA' 'OREGON' 'PENNSYLVANIA'\n",
      " 'RHODE ISLAND' 'SOUTH CAROLINA' 'SOUTH DAKOTA' 'TENNESSEE' 'TEXAS' 'UTAH'\n",
      " 'VERMONT' 'VIRGINIA' 'WASHINGTON' 'WEST VIRGINIA' 'WISCONSIN' 'WYOMING'\n",
      " 'US TOTAL' 'OTHER STATES']\n",
      "(52,)\n"
     ]
    }
   ],
   "source": [
    "# state is the numpy.ndarray for the States represented throughout the honey_df DataFrame.  Notice entries for \"US TOTAL\" and \"OTHER STATES\"\n",
    "state = honey_df['State'].unique()\n",
    "print(state)\n",
    "print(state.shape)"
   ]
  },
  {
   "cell_type": "code",
   "execution_count": 15,
   "metadata": {},
   "outputs": [
    {
     "name": "stdout",
     "output_type": "stream",
     "text": [
      "[ 1.  2.  4.  5.  6.  8.  9. 10. 12. 13. 15. 16. 17. 18. 19. 20. 21. 22.\n",
      " 23. 24. 25. 26. 27. 28. 29. 30. 31. 32. 33. 34. 35. 36. 37. 38. 39. 40.\n",
      " 41. 42. 44. 45. 46. 47. 48. 49. 50. 51. 53. 54. 55. 56. nan]\n",
      "(51,)\n"
     ]
    }
   ],
   "source": [
    "# sansi is the numpy.ndarray for the American National Standards Institute. ANSI codes are a standardized set of numeric or alphabetic codes issued by the American National Standards Institute (ANSI) to ensure uniform identification of geographic entities through all federal government agencies. These standards replace the Federal Information Processing Standards (FIPS) codes previously issued by the National Institute of Standards and Technology (NIST). See http://www.census.gov/geo/www/ansi/ for more information.\n",
    "sansi = honey_df['State ANSI'].unique()\n",
    "print(sansi)\n",
    "print(sansi.shape)"
   ]
  },
  {
   "cell_type": "code",
   "execution_count": 16,
   "metadata": {},
   "outputs": [
    {
     "name": "stdout",
     "output_type": "stream",
     "text": [
      "['BLACK BELT' 'COASTAL PLAINS & GULF COAST' 'MOUNTAINS & EASTERN VALLEY'\n",
      " 'NORTHERN VALLEY' 'UPPER PLAINS & PIEDMONT' 'WIREGRASS' 'KENAI PENINSULA'\n",
      " 'MATANUSKA-SUSITNA-ANCHORAGE' 'TANANA VALLEY' 'NORTHERN' 'SOUTHERN'\n",
      " 'CENTRAL' 'EAST CENTRAL' 'NORTH CENTRAL' 'NORTHEAST' 'NORTHWEST'\n",
      " 'SOUTH CENTRAL' 'SOUTHEAST' 'SOUTHWEST' 'WEST CENTRAL' 'CENTRAL COAST'\n",
      " 'NORTHERN COAST' 'SACRAMENTO VALLEY' 'SAN JOAQUIN VALLEY'\n",
      " 'SIERRA MOUNTAINS' 'SISKIYOU-SHASTA' 'SOUTHERN CALIFORNIA'\n",
      " 'NORTHWEST AND MOUNTAIN' 'SAN LUIS VALLEY' 'ALL COUNTIES' 'HAWAII ISLAND'\n",
      " 'KAUAI AND NIIHAU ISLANDS' 'MAUI, MOLOKAI & LANAI ISLAND' 'OAHU ISLAND'\n",
      " 'EAST' 'NORTH' 'EAST SOUTHEAST' 'WEST' 'WEST SOUTHWEST' 'BLUEGRASS'\n",
      " 'EASTERN OR MOUNTAIN' 'MIDWESTERN' 'PURCHASE' 'SOUTH'\n",
      " 'LOWER EASTERN SHORE' 'UPPER EASTERN SHORE' 'WESTERN' 'UPPER PENINSULA'\n",
      " 'LOWER DELTA' 'SOUTHEAST AND COASTAL' 'UPPER DELTA' 'EASTERN'\n",
      " 'LONG ISLAND' 'CENTRAL COASTAL' 'CENTRAL PIEDMONT' 'NORTHERN COASTAL'\n",
      " 'NORTHERN MOUNTAIN' 'NORTHERN PIEDMONT' 'SOUTHERN COASTAL'\n",
      " 'SOUTHERN PIEDMONT' 'WESTERN MOUNTAIN' 'NORTHEASTERN' 'NORTHWESTERN'\n",
      " 'SOUTHEASTERN' 'SOUTHWESTERN' 'CENTRAL BASIN' 'CUMBERLAND PLATEAU'\n",
      " 'DELTA' 'EAST TENNESSEE' 'WEST TENNESSEE' 'WESTERN RIM' 'BLACKLANDS'\n",
      " 'COASTAL BEND' 'CROSS TIMBERS' 'EAST TEXAS NORTH' 'EAST TEXAS SOUTH'\n",
      " 'EDWARDS PLATEAU' 'LOWER VALLEY' 'NORTHERN HIGH PLAINS'\n",
      " 'NORTHERN LOW PLAINS' 'SOUTH TEXAS' 'SOUTHERN LOW PLAINS' 'TRANS-PECOS'\n",
      " 'UPPER COAST' nan 'PANHANDLE' 'SOUTHERN HIGH PLAINS']\n",
      "(87,)\n"
     ]
    }
   ],
   "source": [
    "# ag_dist is the numpy.ndarray for the Agricultural Districts represented throughout the honey_df DataFrame.  \n",
    "ag_dist = honey_df['Ag District'].unique()\n",
    "print(ag_dist)\n",
    "print(ag_dist.shape)"
   ]
  },
  {
   "cell_type": "code",
   "execution_count": 17,
   "metadata": {},
   "outputs": [
    {
     "name": "stdout",
     "output_type": "stream",
     "text": [
      "[40. 50. 20. 10. 30. 60. 80. 90. 70. 51. 11. 24. 35. 62. 91. 82. 52. 97.\n",
      " 21. 81. 96. 22. nan 12.]\n",
      "(24,)\n"
     ]
    }
   ],
   "source": [
    "# ag_dist_cd is the numpy.ndarray for the Agricultural District Codes represented throughout the honey_df DataFrame.  \n",
    "ag_dist_cd = honey_df['Ag District Code'].unique()\n",
    "print(ag_dist_cd)\n",
    "print(ag_dist_cd.shape)"
   ]
  },
  {
   "cell_type": "code",
   "execution_count": 18,
   "metadata": {},
   "outputs": [
    {
     "name": "stdout",
     "output_type": "stream",
     "text": [
      "['AUTAUGA' 'ELMORE' 'GREENE' ... 'HANSFORD' 'LAMB' 'PECOS']\n",
      "(1695,)\n"
     ]
    }
   ],
   "source": [
    "# county is the numpy.ndarray for the Counties represented throughout the honey_df DataFrame.\n",
    "county = honey_df['County'].unique()\n",
    "print(county)\n",
    "print(county.shape)"
   ]
  },
  {
   "cell_type": "code",
   "execution_count": 19,
   "metadata": {},
   "outputs": [
    {
     "name": "stdout",
     "output_type": "stream",
     "text": [
      "[  1.  51.  63.  85.  87.  91. 105. 119.   3.  13.  23.  25.  35.  53.\n",
      "  97.  99. 129.   9.  15.  19.  29.  43.  49.  55.  71.  95. 115.  33.\n",
      "  59.  77.  79.  83.  89.  93. 103. 133.   7.  17.  21.  27.  37.  57.\n",
      "  73.  75.  81. 107. 111. 117. 121. 123. 125. 127.   5.  31.  39.  41.\n",
      "  45.  61.  67.  69. 109. 113.  nan  12. 147.  65. 135. 137. 141. 145.\n",
      " 143.  47. 131. 149.  11. 101.  86. 153. 159. 167. 169. 175. 207. 209.\n",
      " 211. 217. 225. 235. 237. 247. 265. 163. 189. 251. 139. 157. 187. 219.\n",
      " 227. 281. 291. 297. 311. 181. 195. 221. 241. 257. 317. 213. 223. 233.\n",
      " 295. 313. 155. 161. 173. 185. 271. 277. 287. 321. 179. 183. 229. 267.\n",
      " 299. 305. 177. 201. 205. 243. 253. 261. 273. 151. 171. 197. 199. 231.\n",
      " 255. 263. 269. 285. 293. 203. 191. 193. 165. 215. 239. 186. 510. 309.\n",
      " 331. 349. 397. 439. 491. 409. 333. 337. 363. 367. 425. 497. 315. 343.\n",
      " 347. 365. 379. 387. 401. 419. 423. 449. 459. 467. 499. 289. 339. 351.\n",
      " 373. 395. 403. 407. 455. 457. 471. 473. 411. 451. 463. 485. 325. 453.\n",
      " 477. 493. 249. 283. 479. 507. 335. 441. 443. 245. 361. 469. 481.  36.\n",
      " 550. 800. 810. 303. 319. 301. 279. 275.   6. 391. 417. 429. 503. 259.\n",
      " 307. 385. 437. 483. 329. 399. 415. 389. 327. 435. 427. 323. 353. 377.\n",
      "  14. 465. 489. 357. 375. 433. 369. 475. 371.]\n",
      "(247,)\n"
     ]
    }
   ],
   "source": [
    "# cansi is the numpy.ndarray for the Countie ANSI codes represented throughout the honey_df DataFrame.\n",
    "cansi = honey_df['County ANSI'].unique()\n",
    "print(cansi)\n",
    "print(cansi.shape)"
   ]
  },
  {
   "cell_type": "code",
   "execution_count": 20,
   "metadata": {},
   "outputs": [
    {
     "name": "stdout",
     "output_type": "stream",
     "text": [
      "[0]\n",
      "(1,)\n"
     ]
    }
   ],
   "source": [
    "# wash_cd is the numpy.ndarray for the Watershed Code represented throughout the honey_df DataFrame. Seems uninformative\n",
    "wash_cd = honey_df['watershed_code'].unique()\n",
    "print(wash_cd)\n",
    "print(wash_cd.shape)"
   ]
  },
  {
   "cell_type": "code",
   "execution_count": 22,
   "metadata": {},
   "outputs": [
    {
     "name": "stdout",
     "output_type": "stream",
     "text": [
      "['TOTAL' 'OPERATORS' 'OPERATORS, PRINCIPAL' 'INVENTORY OF BEE COLONIES']\n",
      "(4,)\n"
     ]
    }
   ],
   "source": [
    "# domain is the list (np.ndarray) of column 'Domain' to see the various sub-categories\n",
    "domain = honey_df['Domain'].unique()\n",
    "print(domain)\n",
    "print(domain.shape)"
   ]
  },
  {
   "cell_type": "code",
   "execution_count": 23,
   "metadata": {},
   "outputs": [
    {
     "name": "stdout",
     "output_type": "stream",
     "text": [
      "['6' '5' '15,000' ... '1,188,000' '531,000' '5,574,000']\n",
      "(4542,)\n"
     ]
    }
   ],
   "source": [
    "# value is the list (np.ndarray) of column 'Value' to see the various sub-categories\n",
    "value = honey_df['Value'].unique()\n",
    "print(value)\n",
    "print(value.shape)"
   ]
  },
  {
   "cell_type": "code",
   "execution_count": 30,
   "metadata": {
    "scrolled": false
   },
   "outputs": [
    {
     "name": "stdout",
     "output_type": "stream",
     "text": [
      "Program              object\n",
      "Year                  int64\n",
      "Period               object\n",
      "Week Ending         float64\n",
      "Geo Level            object\n",
      "State                object\n",
      "State ANSI          float64\n",
      "Ag District          object\n",
      "Ag District Code    float64\n",
      "County               object\n",
      "County ANSI         float64\n",
      "Zip Code            float64\n",
      "Region              float64\n",
      "watershed_code        int64\n",
      "Watershed           float64\n",
      "Commodity            object\n",
      "Data Item            object\n",
      "Domain               object\n",
      "Domain Category      object\n",
      "Value                object\n",
      "CV (%)               object\n",
      "dtype: object\n",
      "(45703, 21)\n",
      "<class 'pandas.core.frame.DataFrame'>\n",
      "RangeIndex: 45703 entries, 0 to 45702\n",
      "Data columns (total 17 columns):\n",
      "Program             45703 non-null object\n",
      "Year                45703 non-null int64\n",
      "Period              45703 non-null object\n",
      "Geo Level           45703 non-null object\n",
      "State               45703 non-null object\n",
      "State ANSI          44952 non-null float64\n",
      "Ag District         30394 non-null object\n",
      "Ag District Code    30394 non-null float64\n",
      "County              30394 non-null object\n",
      "County ANSI         30359 non-null float64\n",
      "watershed_code      45703 non-null int64\n",
      "Commodity           45703 non-null object\n",
      "Data Item           45703 non-null object\n",
      "Domain              45703 non-null object\n",
      "Domain Category     45703 non-null object\n",
      "Value               45703 non-null object\n",
      "CV (%)              14001 non-null object\n",
      "dtypes: float64(3), int64(2), object(12)\n",
      "memory usage: 5.9+ MB\n",
      "None\n"
     ]
    }
   ],
   "source": [
    "# Start Preprocessing: Look through the honey_df for missing data in columns of interest based on the above exploration\n",
    "print(honey_df.dtypes)\n",
    "print(honey_df.shape)\n",
    "\n",
    "honey_drop = honey_df.dropna(axis=1, thresh=3)\n",
    "print(honey_drop.info())"
   ]
  },
  {
   "cell_type": "code",
   "execution_count": 28,
   "metadata": {},
   "outputs": [
    {
     "name": "stdout",
     "output_type": "stream",
     "text": [
      "15309\n",
      "(30394, 17)\n"
     ]
    }
   ],
   "source": [
    "# Check how many values are missing in the Ag District Code column\n",
    "print(honey_df['Ag District Code'].isnull().sum())\n",
    "\n",
    "# Subset the honey dataset\n",
    "honey_subset = honey_drop[honey_drop['Ag District Code'].notnull()]\n",
    "\n",
    "# Print out the shape of the subset\n",
    "print(honey_subset.shape)\n"
   ]
  },
  {
   "cell_type": "code",
   "execution_count": 29,
   "metadata": {},
   "outputs": [
    {
     "name": "stdout",
     "output_type": "stream",
     "text": [
      "Ag District Code    0\n",
      "dtype: int64\n",
      "(30394, 17)\n",
      "<class 'pandas.core.frame.DataFrame'>\n",
      "Int64Index: 30394 entries, 0 to 31120\n",
      "Data columns (total 17 columns):\n",
      "Program             30394 non-null object\n",
      "Year                30394 non-null int64\n",
      "Period              30394 non-null object\n",
      "Geo Level           30394 non-null object\n",
      "State               30394 non-null object\n",
      "State ANSI          30394 non-null float64\n",
      "Ag District         30394 non-null object\n",
      "Ag District Code    30394 non-null float64\n",
      "County              30394 non-null object\n",
      "County ANSI         30359 non-null float64\n",
      "watershed_code      30394 non-null int64\n",
      "Commodity           30394 non-null object\n",
      "Data Item           30394 non-null object\n",
      "Domain              30394 non-null object\n",
      "Domain Category     30394 non-null object\n",
      "Value               30394 non-null object\n",
      "CV (%)              13672 non-null object\n",
      "dtypes: float64(3), int64(2), object(12)\n",
      "memory usage: 4.2+ MB\n",
      "None\n"
     ]
    }
   ],
   "source": [
    "# I got a warning in the hone_df.info() output for the mix of dtypes in 'Ag District Code' column.  Looking into the column earlier I saw that there are 24 unique codes, one of which is 'nan'.\n",
    "# Check how many values are missing in the 'Ag District Code' column\n",
    "print(honey_subset[['Ag District Code']].isnull().sum())\n",
    "\n",
    "# Keep only rows where length_of_time, state, and type are not null\n",
    "honey_subset_no_missing = honey_subset[honey_subset[\"Ag District Code\"].notnull()]\n",
    "\n",
    "# Print out the shape of the new dataset\n",
    "print(honey_subset_no_missing.shape)\n",
    "print(honey_subset_no_missing.info())"
   ]
  },
  {
   "cell_type": "code",
   "execution_count": 51,
   "metadata": {},
   "outputs": [
    {
     "ename": "ValueError",
     "evalue": "setting an array element with a sequence.",
     "output_type": "error",
     "traceback": [
      "\u001b[0;31m---------------------------------------------------------------------------\u001b[0m",
      "\u001b[0;31mValueError\u001b[0m                                Traceback (most recent call last)",
      "\u001b[0;32m<ipython-input-51-a62e1f31b8cc>\u001b[0m in \u001b[0;36m<module>\u001b[0;34m\u001b[0m\n\u001b[1;32m      1\u001b[0m \u001b[0;31m# Change the 'Value' column entries to float64 dtypes from object dtypes\u001b[0m\u001b[0;34m\u001b[0m\u001b[0;34m\u001b[0m\u001b[0;34m\u001b[0m\u001b[0m\n\u001b[0;32m----> 2\u001b[0;31m \u001b[0mhoney_df\u001b[0m\u001b[0;34m[\u001b[0m\u001b[0;34m\"Value\"\u001b[0m\u001b[0;34m]\u001b[0m \u001b[0;34m=\u001b[0m \u001b[0mhoney_df\u001b[0m\u001b[0;34m[\u001b[0m\u001b[0;34m\"Value\"\u001b[0m\u001b[0;34m]\u001b[0m\u001b[0;34m.\u001b[0m\u001b[0mastype\u001b[0m\u001b[0;34m(\u001b[0m\u001b[0mfloat\u001b[0m\u001b[0;34m)\u001b[0m\u001b[0;34m\u001b[0m\u001b[0;34m\u001b[0m\u001b[0m\n\u001b[0m\u001b[1;32m      3\u001b[0m \u001b[0;31m# Check the column types\u001b[0m\u001b[0;34m\u001b[0m\u001b[0;34m\u001b[0m\u001b[0;34m\u001b[0m\u001b[0m\n\u001b[1;32m      4\u001b[0m \u001b[0mprint\u001b[0m\u001b[0;34m(\u001b[0m\u001b[0mhoney_df\u001b[0m\u001b[0;34m[\u001b[0m\u001b[0;34m\"Value\"\u001b[0m\u001b[0;34m]\u001b[0m\u001b[0;34m.\u001b[0m\u001b[0mdtypes\u001b[0m\u001b[0;34m)\u001b[0m\u001b[0;34m\u001b[0m\u001b[0;34m\u001b[0m\u001b[0m\n\u001b[1;32m      5\u001b[0m \u001b[0;34m\u001b[0m\u001b[0m\n",
      "\u001b[0;32m/anaconda3/lib/python3.7/site-packages/pandas/util/_decorators.py\u001b[0m in \u001b[0;36mwrapper\u001b[0;34m(*args, **kwargs)\u001b[0m\n\u001b[1;32m    176\u001b[0m                 \u001b[0;32melse\u001b[0m\u001b[0;34m:\u001b[0m\u001b[0;34m\u001b[0m\u001b[0;34m\u001b[0m\u001b[0m\n\u001b[1;32m    177\u001b[0m                     \u001b[0mkwargs\u001b[0m\u001b[0;34m[\u001b[0m\u001b[0mnew_arg_name\u001b[0m\u001b[0;34m]\u001b[0m \u001b[0;34m=\u001b[0m \u001b[0mnew_arg_value\u001b[0m\u001b[0;34m\u001b[0m\u001b[0;34m\u001b[0m\u001b[0m\n\u001b[0;32m--> 178\u001b[0;31m             \u001b[0;32mreturn\u001b[0m \u001b[0mfunc\u001b[0m\u001b[0;34m(\u001b[0m\u001b[0;34m*\u001b[0m\u001b[0margs\u001b[0m\u001b[0;34m,\u001b[0m \u001b[0;34m**\u001b[0m\u001b[0mkwargs\u001b[0m\u001b[0;34m)\u001b[0m\u001b[0;34m\u001b[0m\u001b[0;34m\u001b[0m\u001b[0m\n\u001b[0m\u001b[1;32m    179\u001b[0m         \u001b[0;32mreturn\u001b[0m \u001b[0mwrapper\u001b[0m\u001b[0;34m\u001b[0m\u001b[0;34m\u001b[0m\u001b[0m\n\u001b[1;32m    180\u001b[0m     \u001b[0;32mreturn\u001b[0m \u001b[0m_deprecate_kwarg\u001b[0m\u001b[0;34m\u001b[0m\u001b[0;34m\u001b[0m\u001b[0m\n",
      "\u001b[0;32m/anaconda3/lib/python3.7/site-packages/pandas/core/generic.py\u001b[0m in \u001b[0;36mastype\u001b[0;34m(self, dtype, copy, errors, **kwargs)\u001b[0m\n\u001b[1;32m   4999\u001b[0m             \u001b[0;31m# else, only a single dtype is given\u001b[0m\u001b[0;34m\u001b[0m\u001b[0;34m\u001b[0m\u001b[0;34m\u001b[0m\u001b[0m\n\u001b[1;32m   5000\u001b[0m             new_data = self._data.astype(dtype=dtype, copy=copy, errors=errors,\n\u001b[0;32m-> 5001\u001b[0;31m                                          **kwargs)\n\u001b[0m\u001b[1;32m   5002\u001b[0m             \u001b[0;32mreturn\u001b[0m \u001b[0mself\u001b[0m\u001b[0;34m.\u001b[0m\u001b[0m_constructor\u001b[0m\u001b[0;34m(\u001b[0m\u001b[0mnew_data\u001b[0m\u001b[0;34m)\u001b[0m\u001b[0;34m.\u001b[0m\u001b[0m__finalize__\u001b[0m\u001b[0;34m(\u001b[0m\u001b[0mself\u001b[0m\u001b[0;34m)\u001b[0m\u001b[0;34m\u001b[0m\u001b[0;34m\u001b[0m\u001b[0m\n\u001b[1;32m   5003\u001b[0m \u001b[0;34m\u001b[0m\u001b[0m\n",
      "\u001b[0;32m/anaconda3/lib/python3.7/site-packages/pandas/core/internals.py\u001b[0m in \u001b[0;36mastype\u001b[0;34m(self, dtype, **kwargs)\u001b[0m\n\u001b[1;32m   3712\u001b[0m \u001b[0;34m\u001b[0m\u001b[0m\n\u001b[1;32m   3713\u001b[0m     \u001b[0;32mdef\u001b[0m \u001b[0mastype\u001b[0m\u001b[0;34m(\u001b[0m\u001b[0mself\u001b[0m\u001b[0;34m,\u001b[0m \u001b[0mdtype\u001b[0m\u001b[0;34m,\u001b[0m \u001b[0;34m**\u001b[0m\u001b[0mkwargs\u001b[0m\u001b[0;34m)\u001b[0m\u001b[0;34m:\u001b[0m\u001b[0;34m\u001b[0m\u001b[0;34m\u001b[0m\u001b[0m\n\u001b[0;32m-> 3714\u001b[0;31m         \u001b[0;32mreturn\u001b[0m \u001b[0mself\u001b[0m\u001b[0;34m.\u001b[0m\u001b[0mapply\u001b[0m\u001b[0;34m(\u001b[0m\u001b[0;34m'astype'\u001b[0m\u001b[0;34m,\u001b[0m \u001b[0mdtype\u001b[0m\u001b[0;34m=\u001b[0m\u001b[0mdtype\u001b[0m\u001b[0;34m,\u001b[0m \u001b[0;34m**\u001b[0m\u001b[0mkwargs\u001b[0m\u001b[0;34m)\u001b[0m\u001b[0;34m\u001b[0m\u001b[0;34m\u001b[0m\u001b[0m\n\u001b[0m\u001b[1;32m   3715\u001b[0m \u001b[0;34m\u001b[0m\u001b[0m\n\u001b[1;32m   3716\u001b[0m     \u001b[0;32mdef\u001b[0m \u001b[0mconvert\u001b[0m\u001b[0;34m(\u001b[0m\u001b[0mself\u001b[0m\u001b[0;34m,\u001b[0m \u001b[0;34m**\u001b[0m\u001b[0mkwargs\u001b[0m\u001b[0;34m)\u001b[0m\u001b[0;34m:\u001b[0m\u001b[0;34m\u001b[0m\u001b[0;34m\u001b[0m\u001b[0m\n",
      "\u001b[0;32m/anaconda3/lib/python3.7/site-packages/pandas/core/internals.py\u001b[0m in \u001b[0;36mapply\u001b[0;34m(self, f, axes, filter, do_integrity_check, consolidate, **kwargs)\u001b[0m\n\u001b[1;32m   3579\u001b[0m \u001b[0;34m\u001b[0m\u001b[0m\n\u001b[1;32m   3580\u001b[0m             \u001b[0mkwargs\u001b[0m\u001b[0;34m[\u001b[0m\u001b[0;34m'mgr'\u001b[0m\u001b[0;34m]\u001b[0m \u001b[0;34m=\u001b[0m \u001b[0mself\u001b[0m\u001b[0;34m\u001b[0m\u001b[0;34m\u001b[0m\u001b[0m\n\u001b[0;32m-> 3581\u001b[0;31m             \u001b[0mapplied\u001b[0m \u001b[0;34m=\u001b[0m \u001b[0mgetattr\u001b[0m\u001b[0;34m(\u001b[0m\u001b[0mb\u001b[0m\u001b[0;34m,\u001b[0m \u001b[0mf\u001b[0m\u001b[0;34m)\u001b[0m\u001b[0;34m(\u001b[0m\u001b[0;34m**\u001b[0m\u001b[0mkwargs\u001b[0m\u001b[0;34m)\u001b[0m\u001b[0;34m\u001b[0m\u001b[0;34m\u001b[0m\u001b[0m\n\u001b[0m\u001b[1;32m   3582\u001b[0m             \u001b[0mresult_blocks\u001b[0m \u001b[0;34m=\u001b[0m \u001b[0m_extend_blocks\u001b[0m\u001b[0;34m(\u001b[0m\u001b[0mapplied\u001b[0m\u001b[0;34m,\u001b[0m \u001b[0mresult_blocks\u001b[0m\u001b[0;34m)\u001b[0m\u001b[0;34m\u001b[0m\u001b[0;34m\u001b[0m\u001b[0m\n\u001b[1;32m   3583\u001b[0m \u001b[0;34m\u001b[0m\u001b[0m\n",
      "\u001b[0;32m/anaconda3/lib/python3.7/site-packages/pandas/core/internals.py\u001b[0m in \u001b[0;36mastype\u001b[0;34m(self, dtype, copy, errors, values, **kwargs)\u001b[0m\n\u001b[1;32m    573\u001b[0m     \u001b[0;32mdef\u001b[0m \u001b[0mastype\u001b[0m\u001b[0;34m(\u001b[0m\u001b[0mself\u001b[0m\u001b[0;34m,\u001b[0m \u001b[0mdtype\u001b[0m\u001b[0;34m,\u001b[0m \u001b[0mcopy\u001b[0m\u001b[0;34m=\u001b[0m\u001b[0;32mFalse\u001b[0m\u001b[0;34m,\u001b[0m \u001b[0merrors\u001b[0m\u001b[0;34m=\u001b[0m\u001b[0;34m'raise'\u001b[0m\u001b[0;34m,\u001b[0m \u001b[0mvalues\u001b[0m\u001b[0;34m=\u001b[0m\u001b[0;32mNone\u001b[0m\u001b[0;34m,\u001b[0m \u001b[0;34m**\u001b[0m\u001b[0mkwargs\u001b[0m\u001b[0;34m)\u001b[0m\u001b[0;34m:\u001b[0m\u001b[0;34m\u001b[0m\u001b[0;34m\u001b[0m\u001b[0m\n\u001b[1;32m    574\u001b[0m         return self._astype(dtype, copy=copy, errors=errors, values=values,\n\u001b[0;32m--> 575\u001b[0;31m                             **kwargs)\n\u001b[0m\u001b[1;32m    576\u001b[0m \u001b[0;34m\u001b[0m\u001b[0m\n\u001b[1;32m    577\u001b[0m     def _astype(self, dtype, copy=False, errors='raise', values=None,\n",
      "\u001b[0;32m/anaconda3/lib/python3.7/site-packages/pandas/core/internals.py\u001b[0m in \u001b[0;36m_astype\u001b[0;34m(self, dtype, copy, errors, values, klass, mgr, **kwargs)\u001b[0m\n\u001b[1;32m    662\u001b[0m \u001b[0;34m\u001b[0m\u001b[0m\n\u001b[1;32m    663\u001b[0m                 \u001b[0;31m# _astype_nansafe works fine with 1-d only\u001b[0m\u001b[0;34m\u001b[0m\u001b[0;34m\u001b[0m\u001b[0;34m\u001b[0m\u001b[0m\n\u001b[0;32m--> 664\u001b[0;31m                 \u001b[0mvalues\u001b[0m \u001b[0;34m=\u001b[0m \u001b[0mastype_nansafe\u001b[0m\u001b[0;34m(\u001b[0m\u001b[0mvalues\u001b[0m\u001b[0;34m.\u001b[0m\u001b[0mravel\u001b[0m\u001b[0;34m(\u001b[0m\u001b[0;34m)\u001b[0m\u001b[0;34m,\u001b[0m \u001b[0mdtype\u001b[0m\u001b[0;34m,\u001b[0m \u001b[0mcopy\u001b[0m\u001b[0;34m=\u001b[0m\u001b[0;32mTrue\u001b[0m\u001b[0;34m)\u001b[0m\u001b[0;34m\u001b[0m\u001b[0;34m\u001b[0m\u001b[0m\n\u001b[0m\u001b[1;32m    665\u001b[0m                 \u001b[0mvalues\u001b[0m \u001b[0;34m=\u001b[0m \u001b[0mvalues\u001b[0m\u001b[0;34m.\u001b[0m\u001b[0mreshape\u001b[0m\u001b[0;34m(\u001b[0m\u001b[0mself\u001b[0m\u001b[0;34m.\u001b[0m\u001b[0mshape\u001b[0m\u001b[0;34m)\u001b[0m\u001b[0;34m\u001b[0m\u001b[0;34m\u001b[0m\u001b[0m\n\u001b[1;32m    666\u001b[0m \u001b[0;34m\u001b[0m\u001b[0m\n",
      "\u001b[0;32m/anaconda3/lib/python3.7/site-packages/pandas/core/dtypes/cast.py\u001b[0m in \u001b[0;36mastype_nansafe\u001b[0;34m(arr, dtype, copy)\u001b[0m\n\u001b[1;32m    728\u001b[0m \u001b[0;34m\u001b[0m\u001b[0m\n\u001b[1;32m    729\u001b[0m     \u001b[0;32mif\u001b[0m \u001b[0mcopy\u001b[0m\u001b[0;34m:\u001b[0m\u001b[0;34m\u001b[0m\u001b[0;34m\u001b[0m\u001b[0m\n\u001b[0;32m--> 730\u001b[0;31m         \u001b[0;32mreturn\u001b[0m \u001b[0marr\u001b[0m\u001b[0;34m.\u001b[0m\u001b[0mastype\u001b[0m\u001b[0;34m(\u001b[0m\u001b[0mdtype\u001b[0m\u001b[0;34m,\u001b[0m \u001b[0mcopy\u001b[0m\u001b[0;34m=\u001b[0m\u001b[0;32mTrue\u001b[0m\u001b[0;34m)\u001b[0m\u001b[0;34m\u001b[0m\u001b[0;34m\u001b[0m\u001b[0m\n\u001b[0m\u001b[1;32m    731\u001b[0m     \u001b[0;32mreturn\u001b[0m \u001b[0marr\u001b[0m\u001b[0;34m.\u001b[0m\u001b[0mview\u001b[0m\u001b[0;34m(\u001b[0m\u001b[0mdtype\u001b[0m\u001b[0;34m)\u001b[0m\u001b[0;34m\u001b[0m\u001b[0;34m\u001b[0m\u001b[0m\n\u001b[1;32m    732\u001b[0m \u001b[0;34m\u001b[0m\u001b[0m\n",
      "\u001b[0;31mValueError\u001b[0m: setting an array element with a sequence."
     ]
    }
   ],
   "source": [
    "# Change the 'Value' column entries to float64 dtypes from object dtypes\n",
    "honey_df[\"Value\"] = honey_df[\"Value\"].astype(float)\n",
    "# Check the column types\n",
    "print(honey_df[\"Value\"].dtypes)\n",
    "\n",
    "# looking into stackoverflow to solve the ValueError I found this?  frame[\"time\"]=frame[\"time\"].apply(lambda x:x[0])\n",
    "# but when I applied it to the current column it gave object dtype.\n",
    "honey_df[\"Value\"].head()"
   ]
  },
  {
   "cell_type": "code",
   "execution_count": null,
   "metadata": {},
   "outputs": [],
   "source": []
  },
  {
   "cell_type": "code",
   "execution_count": null,
   "metadata": {},
   "outputs": [],
   "source": []
  },
  {
   "cell_type": "code",
   "execution_count": null,
   "metadata": {},
   "outputs": [],
   "source": []
  },
  {
   "cell_type": "code",
   "execution_count": null,
   "metadata": {},
   "outputs": [],
   "source": []
  },
  {
   "cell_type": "code",
   "execution_count": null,
   "metadata": {},
   "outputs": [],
   "source": []
  },
  {
   "cell_type": "code",
   "execution_count": null,
   "metadata": {},
   "outputs": [],
   "source": []
  },
  {
   "cell_type": "code",
   "execution_count": null,
   "metadata": {},
   "outputs": [],
   "source": []
  }
 ],
 "metadata": {
  "kernelspec": {
   "display_name": "Python 3",
   "language": "python",
   "name": "python3"
  },
  "language_info": {
   "codemirror_mode": {
    "name": "ipython",
    "version": 3
   },
   "file_extension": ".py",
   "mimetype": "text/x-python",
   "name": "python",
   "nbconvert_exporter": "python",
   "pygments_lexer": "ipython3",
   "version": "3.7.1"
  }
 },
 "nbformat": 4,
 "nbformat_minor": 2
}
